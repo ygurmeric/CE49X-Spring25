{
 "cells": [
  {
   "cell_type": "markdown",
   "metadata": {},
   "source": [
    "# CE49X Python for Data Science - Midterm Exam\n",
    "**Total Points: 100**\n",
    "\n",
    "**Instructions:**\n",
    "1. Complete all questions in this notebook\n",
    "2. You may use any Python libraries that are commonly available in Jupyter\n",
    "3. Show your work and explain your approach where necessary\n",
    "4. All data required for the questions is provided in the notebook\n",
    "5. Submit the final version of your notebook to eyuphan.koc@gmail.com before 3pm on April 11, 2025. Email subject must be of the form \"Name\", \"LastName\", \"MidtermSubmission\". Make sure to attach the .ipynb file to the email.\n",
    "\n",
    "**Time: 60 minutes**"
   ]
  },
  {
   "cell_type": "markdown",
   "metadata": {},
   "source": [
    "## Question 1 (20 points)\n",
    "Write a Python function that takes a list of numbers representing daily rainfall measurements (in mm) and returns:\n",
    "- The average daily rainfall\n",
    "- The maximum daily rainfall\n",
    "- The number of days with rainfall above 10mm\n",
    "\n",
    "```python\n",
    "def analyze_rainfall(measurements):\n",
    "    # Your code here\n",
    "    pass\n",
    "```\n",
    "\n",
    "Example usage:\n",
    "```python\n",
    "measurements = [5.2, 12.8, 3.1, 15.6, 8.9, 0.0, 4.5]\n",
    "# Should return: (7.01, 15.6, 2)\n",
    "```"
   ]
  },
  {
   "cell_type": "code",
   "execution_count": null,
   "metadata": {},
   "outputs": [],
   "source": [
    "# Test data for Question 1\n",
    "test_measurements = [5.2, 12.8, 3.1, 15.6, 8.9, 0.0, 4.5]\n",
    "\n",
    "# Your solution here\n",
    "def analyze_rainfall(measurements):\n",
    "    pass\n",
    "\n",
    "# Test your solution\n",
    "result = analyze_rainfall(test_measurements)\n",
    "print(f\"Average rainfall: {result[0]:.2f} mm\")\n",
    "print(f\"Maximum rainfall: {result[1]} mm\")\n",
    "print(f\"Days above 10mm: {result[2]}\")"
   ]
  },
  {
   "cell_type": "markdown",
   "metadata": {},
   "source": [
    "## Question 2 (15 points)\n",
    "Given the following dictionary representing structural properties of different materials:"
   ]
  },
  {
   "cell_type": "code",
   "execution_count": null,
   "metadata": {},
   "outputs": [],
   "source": [
    "# Data for Question 2\n",
    "materials = {\n",
    "    'steel': {'density': 7850, 'elastic_modulus': 200e9, 'yield_strength': 250e6},\n",
    "    'concrete': {'density': 2400, 'elastic_modulus': 30e9, 'yield_strength': 30e6},\n",
    "    'wood': {'density': 500, 'elastic_modulus': 12e9, 'yield_strength': 40e6}\n",
    "}\n",
    "\n",
    "# Your solution here\n",
    "# 1. Print the material with the highest density\n",
    "\n",
    "# 2. Calculate the average elastic modulus of all materials\n",
    "\n",
    "# 3. Create a new dictionary containing only materials with yield strength greater than 35e6\n"
   ]
  },
  {
   "cell_type": "markdown",
   "metadata": {},
   "source": [
    "## Question 3 (20 points)\n",
    "Write a function that takes a list of beam lengths (in meters) and returns a tuple containing:\n",
    "1. A list of beam lengths converted to feet (1 meter = 3.28084 feet)\n",
    "2. A list of beam lengths that are greater than 5 meters"
   ]
  },
  {
   "cell_type": "code",
   "execution_count": null,
   "metadata": {},
   "outputs": [],
   "source": [
    "# Test data for Question 3\n",
    "lengths = [3.5, 6.2, 4.8, 7.1]\n",
    "\n",
    "# Your solution here\n",
    "def process_beam_lengths(lengths):\n",
    "    pass\n",
    "\n",
    "# Test your solution\n",
    "result = process_beam_lengths(lengths)\n",
    "print(f\"Lengths in feet: {result[0]}\")\n",
    "print(f\"Lengths > 5m: {result[1]}\")"
   ]
  },
  {
   "cell_type": "markdown",
   "metadata": {},
   "source": [
    "## Question 4 (15 points)\n",
    "Given the following list of construction site measurements:"
   ]
  },
  {
   "cell_type": "code",
   "execution_count": null,
   "metadata": {},
   "outputs": [],
   "source": [
    "# Data for Question 4\n",
    "measurements = [\n",
    "    {'site': 'A', 'depth': 2.5, 'soil_type': 'clay'},\n",
    "    {'site': 'B', 'depth': 3.8, 'soil_type': 'sand'},\n",
    "    {'site': 'C', 'depth': 1.9, 'soil_type': 'clay'},\n",
    "    {'site': 'D', 'depth': 4.2, 'soil_type': 'gravel'}\n",
    "]\n",
    "\n",
    "# Your solution here\n",
    "# 1. Find the average depth for clay soil sites\n",
    "\n",
    "# 2. Create a list of site names where depth is greater than 3 meters\n",
    "\n",
    "# 3. Count how many different soil types are present\n"
   ]
  },
  {
   "cell_type": "markdown",
   "metadata": {},
   "source": [
    "## Question 5 (15 points)\n",
    "Write a function that takes a string representing a construction date in the format \"DD/MM/YYYY\" and returns:\n",
    "1. A tuple containing the day, month, and year as integers\n",
    "2. A boolean indicating if the year is a leap year"
   ]
  },
  {
   "cell_type": "code",
   "execution_count": null,
   "metadata": {},
   "outputs": [],
   "source": [
    "# Test data for Question 5\n",
    "test_dates = [\"15/06/2024\", \"28/02/2023\", \"01/01/2020\"]\n",
    "\n",
    "# Your solution here\n",
    "def parse_construction_date(date_str):\n",
    "    pass\n",
    "\n",
    "# Test your solution\n",
    "for date in test_dates:\n",
    "    result = parse_construction_date(date)\n",
    "    print(f\"Date: {date}\")\n",
    "    print(f\"Parsed: {result[0]}\")\n",
    "    print(f\"Is leap year: {result[1]}\\n\")"
   ]
  },
  {
   "cell_type": "markdown",
   "metadata": {},
   "source": [
    "## Question 6 (15 points)\n",
    "Given the following list of structural load measurements (in kN):"
   ]
  },
  {
   "cell_type": "code",
   "execution_count": null,
   "metadata": {},
   "outputs": [],
   "source": [
    "# Data for Question 6\n",
    "import math\n",
    "\n",
    "loads = [25.5, 30.2, 18.7, 42.1, 28.9, 35.6]\n",
    "\n",
    "# Your solution here\n",
    "# 1. Calculate the standard deviation of the loads\n",
    "\n",
    "# 2. Find the load value closest to the mean\n",
    "\n",
    "# 3. Create a new list containing only loads that are within ±10% of the mean\n",
    "\n",
    "# Note: You can use the following formula for standard deviation:\n",
    "# std_dev = math.sqrt(sum((x - mean)**2 for x in data) / len(data))"
   ]
  }
 ],
 "metadata": {
  "kernelspec": {
   "display_name": "Python [conda env:base] *",
   "language": "python",
   "name": "conda-base-py"
  },
  "language_info": {
   "codemirror_mode": {
    "name": "ipython",
    "version": 3
   },
   "file_extension": ".py",
   "mimetype": "text/x-python",
   "name": "python",
   "nbconvert_exporter": "python",
   "pygments_lexer": "ipython3",
   "version": "3.12.7"
  }
 },
 "nbformat": 4,
 "nbformat_minor": 4
}
