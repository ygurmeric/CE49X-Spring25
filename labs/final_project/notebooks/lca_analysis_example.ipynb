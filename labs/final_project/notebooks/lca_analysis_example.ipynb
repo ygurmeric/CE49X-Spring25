{
 "cells": [
  {
   "cell_type": "code",
   "execution_count": null,
   "id": "f0c51720",
   "metadata": {},
   "outputs": [],
   "source": [
    "\"\"\"\n",
    "# Life Cycle Analysis (LCA) Tool Example\n",
    "\n",
    "This script demonstrates the functionality of the LCA tool for analyzing environmental impacts \n",
    "of products throughout their life cycle.\n",
    "\"\"\""
   ]
  },
  {
   "cell_type": "markdown",
   "id": "2e4b7017",
   "metadata": {},
   "source": [
    "## 1. Setup and Data Loading\n",
    "\n",
    "First, let's import the necessary modules and load our data."
   ]
  },
  {
   "cell_type": "code",
   "execution_count": null,
   "id": "ff71998a",
   "metadata": {},
   "outputs": [],
   "source": [
    "import sys\n",
    "sys.path.append('..')\n",
    "\n",
    "import pandas as pd\n",
    "import matplotlib.pyplot as plt\n",
    "from src.data_input import DataInput\n",
    "from src.calculations import LCACalculator\n",
    "from src.visualization import LCAVisualizer"
   ]
  },
  {
   "cell_type": "markdown",
   "id": "b07051d8",
   "metadata": {},
   "source": [
    "### Load Product Data\n",
    "Load the sample product data from CSV file."
   ]
  },
  {
   "cell_type": "code",
   "execution_count": null,
   "id": "52cbed08",
   "metadata": {},
   "outputs": [],
   "source": [
    "# Initialize data input handler\n",
    "data_input = DataInput()\n",
    "\n",
    "# Load product data\n",
    "product_data = data_input.read_data('../data/raw/sample_data.csv')\n",
    "print(\"Product Data Shape:\", product_data.shape)\n",
    "product_data.head()"
   ]
  },
  {
   "cell_type": "markdown",
   "id": "990407c9",
   "metadata": {},
   "source": [
    "### Load Impact Factors\n",
    "Load the environmental impact factors from JSON file."
   ]
  },
  {
   "cell_type": "code",
   "execution_count": null,
   "id": "b0b950fe",
   "metadata": {},
   "outputs": [],
   "source": [
    "# Load impact factors\n",
    "impact_factors = data_input.read_impact_factors('../data/raw/impact_factors.json')\n",
    "print(\"Available Materials:\", list(impact_factors.keys()))\n",
    "print(\"\\nImpact Factors for Steel:\")\n",
    "pd.DataFrame(impact_factors['steel'])"
   ]
  },
  {
   "cell_type": "markdown",
   "id": "79c76955",
   "metadata": {},
   "source": [
    "## 2. Impact Calculations\n",
    "\n",
    "Calculate environmental impacts using the LCACalculator."
   ]
  },
  {
   "cell_type": "code",
   "execution_count": null,
   "id": "9fc8353e",
   "metadata": {},
   "outputs": [],
   "source": [
    "# Initialize calculator\n",
    "calculator = LCACalculator(impact_factors_path='../data/raw/impact_factors.json')\n",
    "\n",
    "# Calculate impacts\n",
    "impacts = calculator.calculate_impacts(product_data)\n",
    "print(\"Calculated Impacts Shape:\", impacts.shape)\n",
    "impacts.head()"
   ]
  },
  {
   "cell_type": "markdown",
   "id": "1d360521",
   "metadata": {},
   "source": [
    "### Calculate Total Impacts\n",
    "Aggregate impacts by product."
   ]
  },
  {
   "cell_type": "code",
   "execution_count": null,
   "id": "4c2017ae",
   "metadata": {},
   "outputs": [],
   "source": [
    "# Calculate total impacts\n",
    "total_impacts = calculator.calculate_total_impacts(impacts)\n",
    "print(\"Total Impacts by Product:\")\n",
    "total_impacts"
   ]
  },
  {
   "cell_type": "markdown",
   "id": "039b47df",
   "metadata": {},
   "source": [
    "## 3. Visualization\n",
    "\n",
    "Create various visualizations using the LCAVisualizer."
   ]
  },
  {
   "cell_type": "markdown",
   "id": "ca97be11",
   "metadata": {},
   "source": [
    "### Impact Breakdown by Material Type"
   ]
  },
  {
   "cell_type": "code",
   "execution_count": null,
   "id": "76271cc0",
   "metadata": {},
   "outputs": [],
   "source": [
    "visualizer = LCAVisualizer()\n",
    "\n",
    "# Plot carbon impact breakdown by material type\n",
    "fig = visualizer.plot_impact_breakdown(impacts, 'carbon_impact', 'material_type')\n",
    "plt.show()"
   ]
  },
  {
   "cell_type": "markdown",
   "id": "7798ae11",
   "metadata": {},
   "source": [
    "### Life Cycle Impacts for a Specific Product"
   ]
  },
  {
   "cell_type": "code",
   "execution_count": null,
   "id": "4e7c07ac",
   "metadata": {},
   "outputs": [],
   "source": [
    "# Plot life cycle impacts for Product1\n",
    "fig = visualizer.plot_life_cycle_impacts(impacts, 'P001')\n",
    "plt.show()"
   ]
  },
  {
   "cell_type": "markdown",
   "id": "9f740dfa",
   "metadata": {},
   "source": [
    "### Product Comparison"
   ]
  },
  {
   "cell_type": "code",
   "execution_count": null,
   "id": "5fa76365",
   "metadata": {},
   "outputs": [],
   "source": [
    "# Compare two products\n",
    "fig = visualizer.plot_product_comparison(impacts, ['P001', 'P002'])\n",
    "plt.show()"
   ]
  },
  {
   "cell_type": "markdown",
   "id": "7045b23d",
   "metadata": {},
   "source": [
    "### End-of-Life Management"
   ]
  },
  {
   "cell_type": "code",
   "execution_count": null,
   "id": "667445ee",
   "metadata": {},
   "outputs": [],
   "source": [
    "# Plot end-of-life breakdown for Product1\n",
    "fig = visualizer.plot_end_of_life_breakdown(impacts, 'P001')\n",
    "plt.show()"
   ]
  },
  {
   "cell_type": "markdown",
   "id": "55e22046",
   "metadata": {},
   "source": [
    "### Impact Category Correlations"
   ]
  },
  {
   "cell_type": "code",
   "execution_count": null,
   "id": "72ea585f",
   "metadata": {},
   "outputs": [],
   "source": [
    "# Plot impact correlations\n",
    "fig = visualizer.plot_impact_correlation(impacts)\n",
    "plt.show()"
   ]
  },
  {
   "cell_type": "markdown",
   "id": "e79117e6",
   "metadata": {},
   "source": [
    "## 4. Advanced Analysis\n",
    "\n",
    "Perform more advanced analysis using the calculator's features."
   ]
  },
  {
   "cell_type": "markdown",
   "id": "8a80a95c",
   "metadata": {},
   "source": [
    "### Normalize Impacts"
   ]
  },
  {
   "cell_type": "code",
   "execution_count": null,
   "id": "28be7993",
   "metadata": {},
   "outputs": [],
   "source": [
    "# Normalize impacts for comparison\n",
    "normalized_impacts = calculator.normalize_impacts(impacts)\n",
    "print(\"Normalized Impacts:\")\n",
    "normalized_impacts.head()"
   ]
  },
  {
   "cell_type": "markdown",
   "id": "d5a89aab",
   "metadata": {},
   "source": [
    "### Compare Alternatives"
   ]
  },
  {
   "cell_type": "code",
   "execution_count": null,
   "id": "3b7d73b7",
   "metadata": {},
   "outputs": [],
   "source": [
    "# Compare alternative products\n",
    "comparison = calculator.compare_alternatives(impacts, ['P001', 'P002'])\n",
    "print(\"Product Comparison:\")\n",
    "comparison "
   ]
  }
 ],
 "metadata": {
  "jupytext": {
   "cell_metadata_filter": "-all",
   "main_language": "python",
   "notebook_metadata_filter": "-all"
  }
 },
 "nbformat": 4,
 "nbformat_minor": 5
}
